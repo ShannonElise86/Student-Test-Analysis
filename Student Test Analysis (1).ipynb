{
 "cells": [
  {
   "cell_type": "markdown",
   "metadata": {},
   "source": [
    "# Can MAP predict and improve CAASPP scores?"
   ]
  },
  {
   "cell_type": "markdown",
   "metadata": {},
   "source": [
    "As a veteran teacher of 9 years at The Academy of Alameda, I have a deep interest in the success of my students. We are an accredited school that strives to serve our community. However, in the most recent years, we have been flagged by the state in the area of assessment scores for our students with disabilities. In the last two years, the test scores of our students with disabilities have decreased.  The data I have collected comes from the seventh grade students at the Academy of Alameda Middle School. The information I have gathered is centered around test scores and demographic data. The demographic categories include, gender, race, socioeconomic status, learning disability status and parent education level. The test score data I’ve collected includes results from the state standardized assessment, CAASPP (California Assessment of Student Performance and Progress) and our school implemented diagnostic and growth assessment, MAP (Measures of Academic Progress).\n",
    "\n",
    "For the last 6 years, we have used the MAP assessment for class placement and to track progress from fall to spring. Recently, I've been asked to work on progress monitoring of our students in intervention classes (designed for students below and far below grade level), which often include our students with disabilities. The two variables I'm focusing my research on is the \"Spring MAP Math RIT\" and \"CAASPP Scale Score\". To get a better understanding of the student population, I've included some visuals of the demographic data. "
   ]
  },
  {
   "cell_type": "code",
   "execution_count": 1,
   "metadata": {},
   "outputs": [],
   "source": [
    "import matplotlib.pyplot as plt\n",
    "import numpy as np\n",
    "import pandas as pd\n",
    "%matplotlib inline"
   ]
  },
  {
   "cell_type": "code",
   "execution_count": 2,
   "metadata": {
    "scrolled": true
   },
   "outputs": [
    {
     "data": {
      "text/html": [
       "<div>\n",
       "<style scoped>\n",
       "    .dataframe tbody tr th:only-of-type {\n",
       "        vertical-align: middle;\n",
       "    }\n",
       "\n",
       "    .dataframe tbody tr th {\n",
       "        vertical-align: top;\n",
       "    }\n",
       "\n",
       "    .dataframe thead th {\n",
       "        text-align: right;\n",
       "    }\n",
       "</style>\n",
       "<table border=\"1\" class=\"dataframe\">\n",
       "  <thead>\n",
       "    <tr style=\"text-align: right;\">\n",
       "      <th></th>\n",
       "      <th>PermID</th>\n",
       "      <th>CAASPP Scale Score</th>\n",
       "      <th>CAASPP Achievement Level</th>\n",
       "      <th>Spring MAP Math RIT</th>\n",
       "      <th>Spring MAP Math %</th>\n",
       "      <th>Fall MAP Math RIT</th>\n",
       "      <th>Fall MAP Math %</th>\n",
       "      <th>Gender</th>\n",
       "      <th>Section 504 Status</th>\n",
       "      <th>Primary Disability Type</th>\n",
       "      <th>...</th>\n",
       "      <th>Parent Education Level</th>\n",
       "      <th>Accommodations Available Indicator</th>\n",
       "      <th>Designated Support Available Indicator</th>\n",
       "      <th>CAASPP Scale Score Reading</th>\n",
       "      <th>CAASPP Achievement Level Reading</th>\n",
       "      <th>Spring MAP Reading RIT</th>\n",
       "      <th>Spring MAP Reading %</th>\n",
       "      <th>Fall MAP Reading RIT</th>\n",
       "      <th>Fall MAP Reading %</th>\n",
       "      <th>Intervention</th>\n",
       "    </tr>\n",
       "  </thead>\n",
       "  <tbody>\n",
       "    <tr>\n",
       "      <th>0</th>\n",
       "      <td>89253</td>\n",
       "      <td>2235</td>\n",
       "      <td>1</td>\n",
       "      <td>199</td>\n",
       "      <td>6</td>\n",
       "      <td>193</td>\n",
       "      <td>6</td>\n",
       "      <td>Male</td>\n",
       "      <td>No</td>\n",
       "      <td>NaN</td>\n",
       "      <td>...</td>\n",
       "      <td>11</td>\n",
       "      <td>No</td>\n",
       "      <td>No</td>\n",
       "      <td>2247.0</td>\n",
       "      <td>1.0</td>\n",
       "      <td>194.0</td>\n",
       "      <td>7.0</td>\n",
       "      <td>164.0</td>\n",
       "      <td>1.0</td>\n",
       "      <td>No</td>\n",
       "    </tr>\n",
       "    <tr>\n",
       "      <th>1</th>\n",
       "      <td>89071</td>\n",
       "      <td>2248</td>\n",
       "      <td>1</td>\n",
       "      <td>199</td>\n",
       "      <td>6</td>\n",
       "      <td>190</td>\n",
       "      <td>4</td>\n",
       "      <td>Male</td>\n",
       "      <td>No</td>\n",
       "      <td>OHI</td>\n",
       "      <td>...</td>\n",
       "      <td>11</td>\n",
       "      <td>Yes</td>\n",
       "      <td>Yes</td>\n",
       "      <td>2340.0</td>\n",
       "      <td>1.0</td>\n",
       "      <td>192.0</td>\n",
       "      <td>5.0</td>\n",
       "      <td>190.0</td>\n",
       "      <td>8.0</td>\n",
       "      <td>No</td>\n",
       "    </tr>\n",
       "    <tr>\n",
       "      <th>2</th>\n",
       "      <td>89072</td>\n",
       "      <td>2279</td>\n",
       "      <td>1</td>\n",
       "      <td>186</td>\n",
       "      <td>1</td>\n",
       "      <td>188</td>\n",
       "      <td>3</td>\n",
       "      <td>Female</td>\n",
       "      <td>No</td>\n",
       "      <td>NaN</td>\n",
       "      <td>...</td>\n",
       "      <td>13</td>\n",
       "      <td>No</td>\n",
       "      <td>No</td>\n",
       "      <td>2341.0</td>\n",
       "      <td>1.0</td>\n",
       "      <td>NaN</td>\n",
       "      <td>NaN</td>\n",
       "      <td>187.0</td>\n",
       "      <td>5.0</td>\n",
       "      <td>No</td>\n",
       "    </tr>\n",
       "    <tr>\n",
       "      <th>3</th>\n",
       "      <td>89225</td>\n",
       "      <td>2296</td>\n",
       "      <td>1</td>\n",
       "      <td>190</td>\n",
       "      <td>2</td>\n",
       "      <td>180</td>\n",
       "      <td>1</td>\n",
       "      <td>Male</td>\n",
       "      <td>No</td>\n",
       "      <td>NaN</td>\n",
       "      <td>...</td>\n",
       "      <td>15</td>\n",
       "      <td>No</td>\n",
       "      <td>No</td>\n",
       "      <td>2371.0</td>\n",
       "      <td>1.0</td>\n",
       "      <td>197.0</td>\n",
       "      <td>10.0</td>\n",
       "      <td>189.0</td>\n",
       "      <td>7.0</td>\n",
       "      <td>No</td>\n",
       "    </tr>\n",
       "    <tr>\n",
       "      <th>4</th>\n",
       "      <td>89264</td>\n",
       "      <td>2299</td>\n",
       "      <td>1</td>\n",
       "      <td>192</td>\n",
       "      <td>2</td>\n",
       "      <td>172</td>\n",
       "      <td>1</td>\n",
       "      <td>Female</td>\n",
       "      <td>No</td>\n",
       "      <td>OHI</td>\n",
       "      <td>...</td>\n",
       "      <td>12</td>\n",
       "      <td>No</td>\n",
       "      <td>Yes</td>\n",
       "      <td>2390.0</td>\n",
       "      <td>1.0</td>\n",
       "      <td>204.0</td>\n",
       "      <td>21.0</td>\n",
       "      <td>191.0</td>\n",
       "      <td>9.0</td>\n",
       "      <td>No</td>\n",
       "    </tr>\n",
       "  </tbody>\n",
       "</table>\n",
       "<p>5 rows × 34 columns</p>\n",
       "</div>"
      ],
      "text/plain": [
       "   PermID  CAASPP Scale Score  CAASPP Achievement Level  Spring MAP Math RIT  \\\n",
       "0   89253                2235                         1                  199   \n",
       "1   89071                2248                         1                  199   \n",
       "2   89072                2279                         1                  186   \n",
       "3   89225                2296                         1                  190   \n",
       "4   89264                2299                         1                  192   \n",
       "\n",
       "   Spring MAP Math %  Fall MAP Math RIT  Fall MAP Math %  Gender  \\\n",
       "0                  6                193                6    Male   \n",
       "1                  6                190                4    Male   \n",
       "2                  1                188                3  Female   \n",
       "3                  2                180                1    Male   \n",
       "4                  2                172                1  Female   \n",
       "\n",
       "  Section 504 Status Primary Disability Type  ... Parent Education Level  \\\n",
       "0                 No                     NaN  ...                     11   \n",
       "1                 No                     OHI  ...                     11   \n",
       "2                 No                     NaN  ...                     13   \n",
       "3                 No                     NaN  ...                     15   \n",
       "4                 No                     OHI  ...                     12   \n",
       "\n",
       "   Accommodations Available Indicator Designated Support Available Indicator  \\\n",
       "0                                  No                                     No   \n",
       "1                                 Yes                                    Yes   \n",
       "2                                  No                                     No   \n",
       "3                                  No                                     No   \n",
       "4                                  No                                    Yes   \n",
       "\n",
       "  CAASPP Scale Score Reading CAASPP Achievement Level Reading  \\\n",
       "0                     2247.0                              1.0   \n",
       "1                     2340.0                              1.0   \n",
       "2                     2341.0                              1.0   \n",
       "3                     2371.0                              1.0   \n",
       "4                     2390.0                              1.0   \n",
       "\n",
       "  Spring MAP Reading RIT Spring MAP Reading % Fall MAP Reading RIT  \\\n",
       "0                  194.0                  7.0                164.0   \n",
       "1                  192.0                  5.0                190.0   \n",
       "2                    NaN                  NaN                187.0   \n",
       "3                  197.0                 10.0                189.0   \n",
       "4                  204.0                 21.0                191.0   \n",
       "\n",
       "  Fall MAP Reading % Intervention  \n",
       "0                1.0           No  \n",
       "1                8.0           No  \n",
       "2                5.0           No  \n",
       "3                7.0           No  \n",
       "4                9.0           No  \n",
       "\n",
       "[5 rows x 34 columns]"
      ]
     },
     "execution_count": 2,
     "metadata": {},
     "output_type": "execute_result"
    }
   ],
   "source": [
    "data = pd.read_csv('class_of_21_no_names.csv')\n",
    "data.head()"
   ]
  },
  {
   "cell_type": "code",
   "execution_count": 3,
   "metadata": {
    "scrolled": false
   },
   "outputs": [],
   "source": [
    "data[\"MAP Math Growth\"] = data[\"Spring MAP Math RIT\"] - data[\"Fall MAP Math RIT\"]"
   ]
  },
  {
   "cell_type": "code",
   "execution_count": 4,
   "metadata": {},
   "outputs": [
    {
     "data": {
      "text/plain": [
       "(167, 35)"
      ]
     },
     "execution_count": 4,
     "metadata": {},
     "output_type": "execute_result"
    }
   ],
   "source": [
    "data.shape"
   ]
  },
  {
   "cell_type": "code",
   "execution_count": 5,
   "metadata": {},
   "outputs": [
    {
     "data": {
      "text/plain": [
       "PermID                                         0\n",
       "CAASPP Scale Score                             0\n",
       "CAASPP Achievement Level                       0\n",
       "Spring MAP Math RIT                            0\n",
       "Spring MAP Math %                              0\n",
       "Fall MAP Math RIT                              0\n",
       "Fall MAP Math %                                0\n",
       "Gender                                         0\n",
       "Section 504 Status                             0\n",
       "Primary Disability Type                      148\n",
       "English Language Acquisition Status            0\n",
       "RFEP Date                                    135\n",
       "Military Status                                0\n",
       "Homeless Status                                0\n",
       "Economic Disadvantage Status                   0\n",
       "Hispanic or Latino                             9\n",
       "American Indian or Alaska Native               9\n",
       "Asian                                          9\n",
       "Native Hawaiian or Other Pacific Islander      9\n",
       "Filipino                                       9\n",
       "Black or African American                      9\n",
       "White                                          9\n",
       "Two or More Races                              9\n",
       "Reporting Ethnicity                            9\n",
       "Parent Education Level                         0\n",
       "Accommodations Available Indicator             0\n",
       "Designated Support Available Indicator         0\n",
       "CAASPP Scale Score Reading                     1\n",
       "CAASPP Achievement Level Reading               1\n",
       "Spring MAP Reading RIT                         6\n",
       "Spring MAP Reading %                           6\n",
       "Fall MAP Reading RIT                           3\n",
       "Fall MAP Reading %                             3\n",
       "Intervention                                   0\n",
       "MAP Math Growth                                0\n",
       "dtype: int64"
      ]
     },
     "execution_count": 5,
     "metadata": {},
     "output_type": "execute_result"
    }
   ],
   "source": [
    "data.isnull().sum()"
   ]
  },
  {
   "cell_type": "code",
   "execution_count": 6,
   "metadata": {},
   "outputs": [],
   "source": [
    "ethnicity_mapping = {'200.0':'Asian', '300.0':'Native Hawaiian or other Pacific', '400.0':'Filipino', '500.0':'Hispanic or Latino', '600.0':'Black or African American', '700.0':'White', '800.0':'Two or more races', 'nan':'Declined to state'}"
   ]
  },
  {
   "cell_type": "code",
   "execution_count": 7,
   "metadata": {
    "scrolled": false
   },
   "outputs": [],
   "source": [
    "data['Reporting Ethnicity']=data['Reporting Ethnicity'].astype('str')"
   ]
  },
  {
   "cell_type": "code",
   "execution_count": 8,
   "metadata": {
    "scrolled": true
   },
   "outputs": [],
   "source": [
    "import numpy as np\n",
    "data['Ethnicity'] = data['Reporting Ethnicity'].apply(lambda key: '' if key is np.nan else ethnicity_mapping[key])"
   ]
  },
  {
   "cell_type": "code",
   "execution_count": 9,
   "metadata": {},
   "outputs": [],
   "source": [
    "parent_education_mapping = {10 : 'Graduate school or higher', 11 : 'College graduate', 12 : 'Some college', 13 : 'High school graduate', 14 : 'Not a high school graduate', 15 : 'Declined to state'}"
   ]
  },
  {
   "cell_type": "code",
   "execution_count": 10,
   "metadata": {},
   "outputs": [],
   "source": [
    "data['Parent Education'] = data['Parent Education Level'].apply(lambda key: '' if key is np.nan else parent_education_mapping[key])"
   ]
  },
  {
   "cell_type": "code",
   "execution_count": 11,
   "metadata": {
    "scrolled": false
   },
   "outputs": [
    {
     "data": {
      "image/png": "[encoded data removed]",
      "text/plain": [
       "<Figure size 720x720 with 4 Axes>"
      ]
     },
     "metadata": {
      "needs_background": "light"
     },
     "output_type": "display_data"
    }
   ],
   "source": [
    "plt.figure(figsize=(10, 10))\n",
    "\n",
    "plt.subplot(2,2,2)\n",
    "genders = (data['Gender'].value_counts().index)\n",
    "plt.barh(genders, data['Gender'].value_counts())\n",
    "plt.title(\"Gender\")\n",
    "\n",
    "plt.subplot(2,2,1)\n",
    "ethnicities = (data['Ethnicity'].value_counts().index)\n",
    "plt.barh(ethnicities, data['Ethnicity'].value_counts())\n",
    "plt.title(\"Ethniticy\")\n",
    "\n",
    "plt.subplot(2,2,4)\n",
    "status = (data['Economic Disadvantage Status'].value_counts().index)\n",
    "plt.barh(status, data['Economic Disadvantage Status'].value_counts())\n",
    "plt.title(\"Socioeconimcally Disadvantaged\")\n",
    "\n",
    "plt.subplot(2,2,3)\n",
    "levels = (data['Parent Education'].value_counts().index)\n",
    "plt.barh(levels, data['Parent Education'].value_counts())\n",
    "plt.title(\"Parent Education Level\")\n",
    "plt.show()"
   ]
  },
  {
   "cell_type": "markdown",
   "metadata": {},
   "source": [
    "## Are the distributions for MAP and CAASPP normal?"
   ]
  },
  {
   "cell_type": "markdown",
   "metadata": {},
   "source": [
    "I want to get a better understanding of the distribution for each data set. I wondered if each set of scores showed similar spread or shape and if the data was normal. Below, I've calculated the summary statistics on both sets of data and used a histogram to visualize. "
   ]
  },
  {
   "cell_type": "code",
   "execution_count": 12,
   "metadata": {
    "scrolled": false
   },
   "outputs": [
    {
     "data": {
      "text/plain": [
       "count    167.000000\n",
       "mean     222.958084\n",
       "std       16.359793\n",
       "min      170.000000\n",
       "25%      214.000000\n",
       "50%      223.000000\n",
       "75%      234.000000\n",
       "max      272.000000\n",
       "Name: Spring MAP Math RIT, dtype: float64"
      ]
     },
     "execution_count": 12,
     "metadata": {},
     "output_type": "execute_result"
    }
   ],
   "source": [
    "#Raw MAP score 7th grade average 224\n",
    "data['Spring MAP Math RIT'].describe()"
   ]
  },
  {
   "cell_type": "code",
   "execution_count": 13,
   "metadata": {},
   "outputs": [
    {
     "data": {
      "text/plain": [
       "count     167.000000\n",
       "mean     2526.808383\n",
       "std       101.884291\n",
       "min      2235.000000\n",
       "25%      2466.500000\n",
       "50%      2527.000000\n",
       "75%      2598.500000\n",
       "max      2748.000000\n",
       "Name: CAASPP Scale Score, dtype: float64"
      ]
     },
     "execution_count": 13,
     "metadata": {},
     "output_type": "execute_result"
    }
   ],
   "source": [
    "#ca state average 2511\n",
    "data['CAASPP Scale Score'].describe()"
   ]
  },
  {
   "cell_type": "code",
   "execution_count": 14,
   "metadata": {
    "scrolled": true
   },
   "outputs": [
    {
     "data": {
      "text/plain": [
       "count    167.000000\n",
       "mean       6.898204\n",
       "std        6.269677\n",
       "min       -8.000000\n",
       "25%        3.000000\n",
       "50%        7.000000\n",
       "75%       11.000000\n",
       "max       25.000000\n",
       "Name: MAP Math Growth, dtype: float64"
      ]
     },
     "execution_count": 14,
     "metadata": {},
     "output_type": "execute_result"
    }
   ],
   "source": [
    "#Project growth for average students is 10-12\n",
    "data['MAP Math Growth'].describe()"
   ]
  },
  {
   "cell_type": "code",
   "execution_count": 15,
   "metadata": {},
   "outputs": [
    {
     "data": {
      "image/png": "[encoded data removed]",
      "text/plain": [
       "<Figure size 1080x360 with 2 Axes>"
      ]
     },
     "metadata": {
      "needs_background": "light"
     },
     "output_type": "display_data"
    }
   ],
   "source": [
    "plt.figure(figsize=(15, 5))\n",
    "map_mean = data[\"Spring MAP Math RIT\"].mean()\n",
    "map_stdev = data[\"Spring MAP Math RIT\"].std()\n",
    "\n",
    "caaspp_mean = data['CAASPP Scale Score'].mean()\n",
    "caaspp_stdev = data['CAASPP Scale Score'].std()\n",
    "\n",
    "\n",
    "plt.subplot(1,2,1)\n",
    "plt.hist(data['Spring MAP Math RIT'])\n",
    "plt.title('Spring MAP Scores')\n",
    "plt.xlabel('RIT Value')\n",
    "plt.axvline(map_mean, color='c', linestyle='solid', label=f'mean={map_mean:.2f}')\n",
    "plt.axvline(map_mean + map_stdev, color='c', linestyle='dashed', label=f\"±stdev = {map_mean:.2f} ± {map_stdev:.2f}\")\n",
    "plt.axvline(map_mean - map_stdev, color='c', linestyle='dashed')\n",
    "plt.legend()\n",
    "\n",
    "plt.subplot(1,2,2)\n",
    "plt.hist(data['CAASPP Scale Score'])\n",
    "plt.title('Math CAASPP Scores')\n",
    "plt.xlabel('Scale Score')\n",
    "plt.axvline(caaspp_mean, color='c', linestyle='solid', label=f'mean={caaspp_mean:.2f}')\n",
    "plt.axvline(caaspp_mean + caaspp_stdev, color='c', linestyle='dashed', label=f\"±stdev = {caaspp_mean:.2f} ± {caaspp_stdev:.2f}\")\n",
    "plt.axvline(caaspp_mean - caaspp_stdev, color='c', linestyle='dashed')\n",
    "plt.legend()\n",
    "plt.show()"
   ]
  },
  {
   "cell_type": "markdown",
   "metadata": {},
   "source": [
    "Looking at the two histograms, the distribution appears to be normal and they both have a similar shape. Since these are two different tests with different scales, I wanted to go a step further and make a QQ plot to more closely examine the distribution. "
   ]
  },
  {
   "cell_type": "code",
   "execution_count": 16,
   "metadata": {},
   "outputs": [],
   "source": [
    "norm = np.random.normal(0, 1, 168)\n",
    "norm.sort()\n",
    "caaspp_list = data[\"CAASPP Scale Score\"].tolist()\n",
    "caaspp_list.sort()"
   ]
  },
  {
   "cell_type": "code",
   "execution_count": 17,
   "metadata": {},
   "outputs": [],
   "source": [
    "norm = np.random.normal(0, 1, 167)\n",
    "norm.sort()\n",
    "map_list = data[\"Spring MAP Math RIT\"].tolist()\n",
    "map_list.sort()"
   ]
  },
  {
   "cell_type": "code",
   "execution_count": 18,
   "metadata": {},
   "outputs": [
    {
     "data": {
      "image/png": "[encoded data removed]",
      "text/plain": [
       "<Figure size 1080x360 with 2 Axes>"
      ]
     },
     "metadata": {
      "needs_background": "light"
     },
     "output_type": "display_data"
    }
   ],
   "source": [
    "plt.figure(figsize=(15,5))\n",
    "\n",
    "plt.subplot(1,2,1)\n",
    "plt.plot(norm, map_list, \"o\")\n",
    "plt.title('Spring MAP Math RIT Distribution')\n",
    "plt.subplot(1,2,2)\n",
    "plt.plot(norm, caaspp_list, \"o\")\n",
    "plt.title('CAASPP Scale Score Distribution')\n",
    "\n",
    "plt.show()"
   ]
  },
  {
   "cell_type": "markdown",
   "metadata": {},
   "source": [
    "After exploring the distribution of the two variables and seeing that they both resemble a normal distribution; I can consider the mean and standard deviation reliable descriptions of the data when continuing my research."
   ]
  },
  {
   "cell_type": "markdown",
   "metadata": {},
   "source": [
    "## Are the CAASPP scores correlated to the Spring MAP scores for all 7th grade students?"
   ]
  },
  {
   "cell_type": "markdown",
   "metadata": {},
   "source": [
    "Now that I know a little bit more about the distribution of the two variables that I'm focused on, I want to see how they are related. I want to know what the correlation is between spring MAP scores and CAASPP scores. Based on the graph below and the correlation value of 0.91, we can see that there exists a strong linear correlation between spring MAP and CAASPP. "
   ]
  },
  {
   "cell_type": "code",
   "execution_count": 19,
   "metadata": {},
   "outputs": [
    {
     "data": {
      "text/plain": [
       "0.9101697364083047"
      ]
     },
     "execution_count": 19,
     "metadata": {},
     "output_type": "execute_result"
    }
   ],
   "source": [
    "data[\"Spring MAP Math RIT\"].corr(data['CAASPP Scale Score'])"
   ]
  },
  {
   "cell_type": "code",
   "execution_count": 20,
   "metadata": {
    "scrolled": false
   },
   "outputs": [
    {
     "data": {
      "image/png": "[encoded data removed]",
      "text/plain": [
       "<Figure size 432x288 with 1 Axes>"
      ]
     },
     "metadata": {
      "needs_background": "light"
     },
     "output_type": "display_data"
    }
   ],
   "source": [
    "plt.scatter(data[\"Spring MAP Math RIT\"], data['CAASPP Scale Score'])\n",
    "plt.xlabel('Spring MAP Math RIT')\n",
    "plt.ylabel('CAASPP Scale Score')\n",
    "plt.show()"
   ]
  },
  {
   "cell_type": "markdown",
   "metadata": {},
   "source": [
    "## Are the CAASPP scores of the students with disabilities correlated?"
   ]
  },
  {
   "cell_type": "markdown",
   "metadata": {},
   "source": [
    "Now, to focus on our students with disabilities. The column, \"Accomodations Available Indicator\" will have a value of \"Yes\" for students with disabilities. I'm interested in how many students are included and in which achievement levels they were placed. It turns out, there are 7 students in the lowest achievement level with a score of one. Since the number of students I'm focusing on is such a small amount, I've decided to get more information about the achievement level as opposed to the individual students"
   ]
  },
  {
   "cell_type": "code",
   "execution_count": 21,
   "metadata": {
    "scrolled": false
   },
   "outputs": [
    {
     "data": {
      "text/html": [
       "<div>\n",
       "<style scoped>\n",
       "    .dataframe tbody tr th:only-of-type {\n",
       "        vertical-align: middle;\n",
       "    }\n",
       "\n",
       "    .dataframe tbody tr th {\n",
       "        vertical-align: top;\n",
       "    }\n",
       "\n",
       "    .dataframe thead th {\n",
       "        text-align: right;\n",
       "    }\n",
       "</style>\n",
       "<table border=\"1\" class=\"dataframe\">\n",
       "  <thead>\n",
       "    <tr style=\"text-align: right;\">\n",
       "      <th></th>\n",
       "      <th>PermID</th>\n",
       "      <th>CAASPP Scale Score</th>\n",
       "      <th>CAASPP Achievement Level</th>\n",
       "      <th>Spring MAP Math RIT</th>\n",
       "      <th>Spring MAP Math %</th>\n",
       "      <th>Fall MAP Math RIT</th>\n",
       "      <th>Fall MAP Math %</th>\n",
       "      <th>Gender</th>\n",
       "      <th>Section 504 Status</th>\n",
       "      <th>Primary Disability Type</th>\n",
       "      <th>...</th>\n",
       "      <th>CAASPP Achievement Level Reading</th>\n",
       "      <th>Spring MAP Reading RIT</th>\n",
       "      <th>Spring MAP Reading %</th>\n",
       "      <th>Fall MAP Reading RIT</th>\n",
       "      <th>Fall MAP Reading %</th>\n",
       "      <th>Intervention</th>\n",
       "      <th>MAP Math Growth</th>\n",
       "      <th>MAP Reading Growth</th>\n",
       "      <th>Ethnicity</th>\n",
       "      <th>Parent Education</th>\n",
       "    </tr>\n",
       "  </thead>\n",
       "  <tbody>\n",
       "    <tr>\n",
       "      <th>1</th>\n",
       "      <td>89071</td>\n",
       "      <td>2248</td>\n",
       "      <td>1</td>\n",
       "      <td>199</td>\n",
       "      <td>6</td>\n",
       "      <td>190</td>\n",
       "      <td>4</td>\n",
       "      <td>Male</td>\n",
       "      <td>No</td>\n",
       "      <td>OHI</td>\n",
       "      <td>...</td>\n",
       "      <td>1.0</td>\n",
       "      <td>192.0</td>\n",
       "      <td>5.0</td>\n",
       "      <td>190.0</td>\n",
       "      <td>8.0</td>\n",
       "      <td>No</td>\n",
       "      <td>2</td>\n",
       "      <td>-3.0</td>\n",
       "      <td>Black or African American</td>\n",
       "      <td>College graduate</td>\n",
       "    </tr>\n",
       "    <tr>\n",
       "      <th>6</th>\n",
       "      <td>88940</td>\n",
       "      <td>2328</td>\n",
       "      <td>1</td>\n",
       "      <td>170</td>\n",
       "      <td>1</td>\n",
       "      <td>150</td>\n",
       "      <td>1</td>\n",
       "      <td>Female</td>\n",
       "      <td>No</td>\n",
       "      <td>AUT</td>\n",
       "      <td>...</td>\n",
       "      <td>1.0</td>\n",
       "      <td>190.0</td>\n",
       "      <td>4.0</td>\n",
       "      <td>175.0</td>\n",
       "      <td>1.0</td>\n",
       "      <td>No</td>\n",
       "      <td>0</td>\n",
       "      <td>3.0</td>\n",
       "      <td>Declined to state</td>\n",
       "      <td>Graduate school or higher</td>\n",
       "    </tr>\n",
       "    <tr>\n",
       "      <th>8</th>\n",
       "      <td>88946</td>\n",
       "      <td>2348</td>\n",
       "      <td>1</td>\n",
       "      <td>186</td>\n",
       "      <td>1</td>\n",
       "      <td>180</td>\n",
       "      <td>1</td>\n",
       "      <td>Female</td>\n",
       "      <td>No</td>\n",
       "      <td>SLD</td>\n",
       "      <td>...</td>\n",
       "      <td>1.0</td>\n",
       "      <td>192.0</td>\n",
       "      <td>5.0</td>\n",
       "      <td>194.0</td>\n",
       "      <td>13.0</td>\n",
       "      <td>No</td>\n",
       "      <td>0</td>\n",
       "      <td>-8.0</td>\n",
       "      <td>Declined to state</td>\n",
       "      <td>High school graduate</td>\n",
       "    </tr>\n",
       "    <tr>\n",
       "      <th>9</th>\n",
       "      <td>88948</td>\n",
       "      <td>2356</td>\n",
       "      <td>1</td>\n",
       "      <td>198</td>\n",
       "      <td>5</td>\n",
       "      <td>187</td>\n",
       "      <td>2</td>\n",
       "      <td>Female</td>\n",
       "      <td>No</td>\n",
       "      <td>OHI</td>\n",
       "      <td>...</td>\n",
       "      <td>1.0</td>\n",
       "      <td>194.0</td>\n",
       "      <td>7.0</td>\n",
       "      <td>194.0</td>\n",
       "      <td>13.0</td>\n",
       "      <td>No</td>\n",
       "      <td>3</td>\n",
       "      <td>-6.0</td>\n",
       "      <td>Black or African American</td>\n",
       "      <td>College graduate</td>\n",
       "    </tr>\n",
       "    <tr>\n",
       "      <th>10</th>\n",
       "      <td>88952</td>\n",
       "      <td>2357</td>\n",
       "      <td>1</td>\n",
       "      <td>202</td>\n",
       "      <td>8</td>\n",
       "      <td>203</td>\n",
       "      <td>17</td>\n",
       "      <td>Female</td>\n",
       "      <td>No</td>\n",
       "      <td>SLD</td>\n",
       "      <td>...</td>\n",
       "      <td>1.0</td>\n",
       "      <td>218.0</td>\n",
       "      <td>56.0</td>\n",
       "      <td>206.0</td>\n",
       "      <td>37.0</td>\n",
       "      <td>No</td>\n",
       "      <td>-9</td>\n",
       "      <td>19.0</td>\n",
       "      <td>White</td>\n",
       "      <td>Graduate school or higher</td>\n",
       "    </tr>\n",
       "  </tbody>\n",
       "</table>\n",
       "<p>5 rows × 38 columns</p>\n",
       "</div>"
      ],
      "text/plain": [
       "    PermID  CAASPP Scale Score  CAASPP Achievement Level  Spring MAP Math RIT  \\\n",
       "1    89071                2248                         1                  199   \n",
       "6    88940                2328                         1                  170   \n",
       "8    88946                2348                         1                  186   \n",
       "9    88948                2356                         1                  198   \n",
       "10   88952                2357                         1                  202   \n",
       "\n",
       "    Spring MAP Math %  Fall MAP Math RIT  Fall MAP Math %  Gender  \\\n",
       "1                   6                190                4    Male   \n",
       "6                   1                150                1  Female   \n",
       "8                   1                180                1  Female   \n",
       "9                   5                187                2  Female   \n",
       "10                  8                203               17  Female   \n",
       "\n",
       "   Section 504 Status Primary Disability Type  ...  \\\n",
       "1                  No                     OHI  ...   \n",
       "6                  No                     AUT  ...   \n",
       "8                  No                     SLD  ...   \n",
       "9                  No                     OHI  ...   \n",
       "10                 No                     SLD  ...   \n",
       "\n",
       "   CAASPP Achievement Level Reading  Spring MAP Reading RIT  \\\n",
       "1                               1.0                   192.0   \n",
       "6                               1.0                   190.0   \n",
       "8                               1.0                   192.0   \n",
       "9                               1.0                   194.0   \n",
       "10                              1.0                   218.0   \n",
       "\n",
       "   Spring MAP Reading % Fall MAP Reading RIT Fall MAP Reading % Intervention  \\\n",
       "1                   5.0                190.0                8.0           No   \n",
       "6                   4.0                175.0                1.0           No   \n",
       "8                   5.0                194.0               13.0           No   \n",
       "9                   7.0                194.0               13.0           No   \n",
       "10                 56.0                206.0               37.0           No   \n",
       "\n",
       "   MAP Math Growth MAP Reading Growth                  Ethnicity  \\\n",
       "1                2               -3.0  Black or African American   \n",
       "6                0                3.0          Declined to state   \n",
       "8                0               -8.0          Declined to state   \n",
       "9                3               -6.0  Black or African American   \n",
       "10              -9               19.0                      White   \n",
       "\n",
       "             Parent Education  \n",
       "1            College graduate  \n",
       "6   Graduate school or higher  \n",
       "8        High school graduate  \n",
       "9            College graduate  \n",
       "10  Graduate school or higher  \n",
       "\n",
       "[5 rows x 38 columns]"
      ]
     },
     "execution_count": 21,
     "metadata": {},
     "output_type": "execute_result"
    }
   ],
   "source": [
    "accomodation_df = data[data['Accommodations Available Indicator']=='Yes']\n",
    "accomodation_df.head()"
   ]
  },
  {
   "cell_type": "code",
   "execution_count": 22,
   "metadata": {},
   "outputs": [
    {
     "data": {
      "text/plain": [
       "1    7\n",
       "4    2\n",
       "2    2\n",
       "3    1\n",
       "Name: CAASPP Achievement Level, dtype: int64"
      ]
     },
     "execution_count": 22,
     "metadata": {},
     "output_type": "execute_result"
    }
   ],
   "source": [
    "accomodation_df['CAASPP Achievement Level'].value_counts()"
   ]
  },
  {
   "cell_type": "markdown",
   "metadata": {},
   "source": [
    "We know that there is a correlation between scores overall, but is there a correlation between scores for students in achievement level one?  Knowing that there is a strong correlation between the scores of the entire 7th grade class, I was now curious if there was a correlation within each achievement level. The following results show that for acheivement level 1, there is a moderate correlation. I feel comfortable with narrowing my focus on this subset of students based on this correlation."
   ]
  },
  {
   "cell_type": "code",
   "execution_count": 23,
   "metadata": {
    "scrolled": true
   },
   "outputs": [
    {
     "name": "stdout",
     "output_type": "stream",
     "text": [
      "The correlation between MAP and CAASPP for achievement level 1 is 0.6585795965912822\n",
      "The correlation between MAP and CAASPP for achievement level 2 is 0.31379049142342774\n",
      "The correlation between MAP and CAASPP for achievement level 3 is 0.2803879025605396\n",
      "The correlation between MAP and CAASPP for achievement level 4 is 0.7274184383509743\n"
     ]
    }
   ],
   "source": [
    "for i in range(1,5):\n",
    "    corr = data[data['CAASPP Achievement Level']==i].corr().loc['Spring MAP Math RIT','CAASPP Scale Score']\n",
    "    print(f'The correlation between MAP and CAASPP for achievement level {i} is {corr}')"
   ]
  },
  {
   "cell_type": "markdown",
   "metadata": {},
   "source": [
    "## Are students in level one showing growth? If so, how does it compare to other groups?"
   ]
  },
  {
   "cell_type": "markdown",
   "metadata": {},
   "source": [
    "Now that we know the two sets of scores are correlated for the group I am concerned about, the next step is figuring out how to improve their scores. Improving scores means growth, so my next question is, \"Are students at level 1 growing and how much?\" I've ran the summary stats for each achievement level. It's interesting to see that the mean growth increases with each achievement level. While students in the lower levels are generally struggling, they have the most to learn. This shows that achievement level 1 students on average increase MAP scores by about 5 points. According to MAP, students are projected to grow by 6 points from Fall to Spring. In order to accelerate the learning of this group, we need to target their areas of growth based on their Fall MAP scores. For furthering my research, I would like to focus on how to target the needs of the students and to further identify other factors in test scores and growth. "
   ]
  },
  {
   "cell_type": "code",
   "execution_count": 24,
   "metadata": {
    "scrolled": false
   },
   "outputs": [
    {
     "data": {
      "text/html": [
       "<div>\n",
       "<style scoped>\n",
       "    .dataframe tbody tr th:only-of-type {\n",
       "        vertical-align: middle;\n",
       "    }\n",
       "\n",
       "    .dataframe tbody tr th {\n",
       "        vertical-align: top;\n",
       "    }\n",
       "\n",
       "    .dataframe thead th {\n",
       "        text-align: right;\n",
       "    }\n",
       "</style>\n",
       "<table border=\"1\" class=\"dataframe\">\n",
       "  <thead>\n",
       "    <tr style=\"text-align: right;\">\n",
       "      <th></th>\n",
       "      <th>count</th>\n",
       "      <th>mean</th>\n",
       "      <th>std</th>\n",
       "      <th>min</th>\n",
       "      <th>25%</th>\n",
       "      <th>50%</th>\n",
       "      <th>75%</th>\n",
       "      <th>max</th>\n",
       "    </tr>\n",
       "    <tr>\n",
       "      <th>CAASPP Achievement Level</th>\n",
       "      <th></th>\n",
       "      <th></th>\n",
       "      <th></th>\n",
       "      <th></th>\n",
       "      <th></th>\n",
       "      <th></th>\n",
       "      <th></th>\n",
       "      <th></th>\n",
       "    </tr>\n",
       "  </thead>\n",
       "  <tbody>\n",
       "    <tr>\n",
       "      <th>1</th>\n",
       "      <td>47.0</td>\n",
       "      <td>-3.297872</td>\n",
       "      <td>11.236422</td>\n",
       "      <td>-37.0</td>\n",
       "      <td>-10.50</td>\n",
       "      <td>0.0</td>\n",
       "      <td>2.00</td>\n",
       "      <td>18.0</td>\n",
       "    </tr>\n",
       "    <tr>\n",
       "      <th>2</th>\n",
       "      <td>46.0</td>\n",
       "      <td>-2.565217</td>\n",
       "      <td>11.906398</td>\n",
       "      <td>-35.0</td>\n",
       "      <td>-7.75</td>\n",
       "      <td>-2.5</td>\n",
       "      <td>3.75</td>\n",
       "      <td>25.0</td>\n",
       "    </tr>\n",
       "    <tr>\n",
       "      <th>3</th>\n",
       "      <td>37.0</td>\n",
       "      <td>0.378378</td>\n",
       "      <td>15.035793</td>\n",
       "      <td>-26.0</td>\n",
       "      <td>-12.00</td>\n",
       "      <td>4.0</td>\n",
       "      <td>9.00</td>\n",
       "      <td>41.0</td>\n",
       "    </tr>\n",
       "    <tr>\n",
       "      <th>4</th>\n",
       "      <td>37.0</td>\n",
       "      <td>0.027027</td>\n",
       "      <td>7.270513</td>\n",
       "      <td>-17.0</td>\n",
       "      <td>-4.00</td>\n",
       "      <td>0.0</td>\n",
       "      <td>5.00</td>\n",
       "      <td>13.0</td>\n",
       "    </tr>\n",
       "  </tbody>\n",
       "</table>\n",
       "</div>"
      ],
      "text/plain": [
       "                          count      mean        std   min    25%  50%   75%  \\\n",
       "CAASPP Achievement Level                                                       \n",
       "1                          47.0 -3.297872  11.236422 -37.0 -10.50  0.0  2.00   \n",
       "2                          46.0 -2.565217  11.906398 -35.0  -7.75 -2.5  3.75   \n",
       "3                          37.0  0.378378  15.035793 -26.0 -12.00  4.0  9.00   \n",
       "4                          37.0  0.027027   7.270513 -17.0  -4.00  0.0  5.00   \n",
       "\n",
       "                           max  \n",
       "CAASPP Achievement Level        \n",
       "1                         18.0  \n",
       "2                         25.0  \n",
       "3                         41.0  \n",
       "4                         13.0  "
      ]
     },
     "execution_count": 24,
     "metadata": {},
     "output_type": "execute_result"
    }
   ],
   "source": [
    "data.groupby('CAASPP Achievement Level')['MAP Math Growth'].describe()"
   ]
  },
  {
   "cell_type": "markdown",
   "metadata": {},
   "source": [
    "I am interested in continuing this research by gathering more data from my students. Not only would I get more data from the same students, but increase the number of classes that I pull from and from previous years. I'm looking forward to learning how to scrape data from website and to clean the data. Until this point, every data set has been in a nice, organized excel file. I would also like to learn about making a model to predict CAASPP score based on MAP scores and possibly growth. It would be even more interesting if I could encorporate a number of other student attributes to impact that prediction. "
   ]
  },
  {
   "cell_type": "code",
   "execution_count": null,
   "metadata": {},
   "outputs": [],
   "source": []
  }
 ],
 "metadata": {
  "kernelspec": {
   "display_name": "Python 3",
   "language": "python",
   "name": "python3"
  },
  "language_info": {
   "codemirror_mode": {
    "name": "ipython",
    "version": 3
   },
   "file_extension": ".py",
   "mimetype": "text/x-python",
   "name": "python",
   "nbconvert_exporter": "python",
   "pygments_lexer": "ipython3",
   "version": "3.7.6"
  }
 },
 "nbformat": 4,
 "nbformat_minor": 2
}
